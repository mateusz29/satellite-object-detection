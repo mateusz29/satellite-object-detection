{
 "cells": [
  {
   "cell_type": "code",
   "execution_count": 2,
   "id": "bb29d057",
   "metadata": {},
   "outputs": [],
   "source": [
    "import os\n",
    "from collections import Counter"
   ]
  },
  {
   "cell_type": "code",
   "execution_count": 3,
   "id": "c679b857",
   "metadata": {},
   "outputs": [],
   "source": [
    "def count_objects_from_folder(path):\n",
    "    counts = Counter()\n",
    "    for file in os.listdir(path):\n",
    "        if file.endswith(\".txt\"):\n",
    "            with open(os.path.join(path, file)) as f:\n",
    "                for line in f:\n",
    "                    parts = line.strip().split()\n",
    "                    if len(parts) >= 2:\n",
    "                        obj = parts[-2]  # second last is object label\n",
    "                        counts[obj] += 1\n",
    "    return counts"
   ]
  },
  {
   "cell_type": "code",
   "execution_count": 4,
   "id": "f7f2e775",
   "metadata": {},
   "outputs": [],
   "source": [
    "def count_objects_from_folder_dior(path):\n",
    "    counts = Counter()\n",
    "    for file in os.listdir(path):\n",
    "        if file.endswith(\".txt\"):\n",
    "            with open(os.path.join(path, file)) as f:\n",
    "                for line in f:\n",
    "                    parts = line.strip().split()\n",
    "                    if len(parts) >= 2:\n",
    "                        obj = parts[0]  # first is object label\n",
    "                        counts[obj] += 1\n",
    "    return counts"
   ]
  },
  {
   "cell_type": "code",
   "execution_count": 5,
   "id": "42c6f102",
   "metadata": {},
   "outputs": [],
   "source": [
    "def combine_counts(path1, path2):\n",
    "    total_counts = count_objects_from_folder(path1) + count_objects_from_folder(path2)\n",
    "    return total_counts"
   ]
  },
  {
   "cell_type": "code",
   "execution_count": 7,
   "id": "643b47fb",
   "metadata": {},
   "outputs": [
    {
     "name": "stdout",
     "output_type": "stream",
     "text": [
      "Small-Car: 206491\n",
      "Van: 200106\n",
      "Dump-Truck: 33868\n",
      "Dry-Cargo-Ship: 16879\n",
      "Cargo-Truck: 16259\n",
      "Motorboat: 15347\n",
      "other-airplane: 14305\n",
      "Intersection: 10156\n",
      "Fishing-Boat: 8930\n",
      "A220: 8154\n",
      "other-vehicle: 6445\n",
      "Boeing737: 5881\n",
      "Tennis-Court: 4219\n",
      "other-ship: 4215\n",
      "Engineering-Ship: 3777\n",
      "Liquid-Cargo-Ship: 3731\n",
      "A321: 3611\n",
      "Boeing747: 2476\n",
      "Boeing787: 2300\n",
      "A330: 2134\n",
      "Passenger-Ship: 1858\n",
      "Tugboat: 1855\n",
      "Boeing777: 1780\n",
      "Bus: 1673\n",
      "Basketball-Court: 1666\n",
      "Bridge: 1621\n",
      "Baseball-Field: 1403\n",
      "A350: 1396\n",
      "Truck-Tractor: 1348\n",
      "Excavator: 1280\n",
      "Trailer: 1183\n",
      "Football-Field: 1181\n",
      "Warship: 1134\n",
      "Roundabout: 833\n",
      "ARJ21: 304\n",
      "Tractor: 298\n",
      "C919: 158\n",
      "\n",
      "TOTAL FAIR1M: 590255\n"
     ]
    }
   ],
   "source": [
    "path1 = \"D:\\\\stuff\\\\datasets\\\\FAIR1M\\\\fair1m_date_1922\\\\val\\\\labelTxt\"\n",
    "path2 = \"D:\\\\stuff\\\\datasets\\\\FAIR1M\\\\fair1m_date_1922\\\\train\\\\labelTxt\"\n",
    "\n",
    "cnt = 0\n",
    "counts = combine_counts(path1, path2)\n",
    "for obj, count in counts.most_common():\n",
    "    cnt += count\n",
    "    print(f\"{obj}: {count}\")\n",
    "print(f\"\\nTOTAL FAIR1M: {cnt}\")"
   ]
  },
  {
   "cell_type": "code",
   "execution_count": 8,
   "id": "ac7bbe12",
   "metadata": {},
   "outputs": [
    {
     "name": "stdout",
     "output_type": "stream",
     "text": [
      "7: 62400\n",
      "5: 40370\n",
      "0: 26414\n",
      "2: 12266\n",
      "8: 10104\n",
      "1: 5817\n",
      "6: 5509\n",
      "4: 5363\n",
      "9: 3967\n",
      "3: 3225\n",
      "10: 3114\n",
      "14: 3038\n",
      "16: 2165\n",
      "13: 1681\n",
      "18: 1327\n",
      "11: 1298\n",
      "17: 1268\n",
      "19: 1086\n",
      "15: 1049\n",
      "12: 1011\n",
      "\n",
      "TOTAL DIOR: 192472\n"
     ]
    }
   ],
   "source": [
    "path3 = \"D:\\\\stuff\\\\datasets\\\\DIOR\\\\archive\\\\labels\"\n",
    "\n",
    "cnt = 0\n",
    "counts = count_objects_from_folder_dior(path3)\n",
    "for obj, count in counts.most_common():\n",
    "    cnt += count\n",
    "    print(f\"{obj}: {count}\")\n",
    "print(f\"\\nTOTAL DIOR: {cnt}\")"
   ]
  },
  {
   "cell_type": "code",
   "execution_count": 9,
   "id": "9496d35b",
   "metadata": {},
   "outputs": [
    {
     "name": "stdout",
     "output_type": "stream",
     "text": [
      "small-vehicle: 219330\n",
      "ship: 54353\n",
      "large-vehicle: 29941\n",
      "plane: 11365\n",
      "storage-tank: 10617\n",
      "harbor: 8902\n",
      "tennis-court: 3560\n",
      "swimming-pool: 3230\n",
      "bridge: 3043\n",
      "baseball-diamond: 965\n",
      "roundabout: 885\n",
      "helicopter: 730\n",
      "basketball-court: 711\n",
      "ground-track-field: 684\n",
      "soccer-ball-field: 573\n",
      "airport: 410\n",
      "container-crane: 270\n",
      "helipad: 106\n",
      "\n",
      "TOTAL DOTAv2: 349675\n"
     ]
    }
   ],
   "source": [
    "path1 = \"D:\\\\stuff\\\\datasets\\\\DOTAv2\\\\DOTAv2\\\\labels\\\\DOTA-v2.0_val (original format)\"\n",
    "path2 = \"D:\\\\stuff\\\\datasets\\\\DOTAv2\\\\DOTAv2\\\\labels\\\\DOTA-v2.0_train (original format)\"\n",
    "\n",
    "cnt = 0\n",
    "counts = combine_counts(path1, path2)\n",
    "for obj, count in counts.most_common():\n",
    "    cnt += count\n",
    "    print(f\"{obj}: {count}\")\n",
    "print(f\"\\nTOTAL DOTAv2: {cnt}\")"
   ]
  }
 ],
 "metadata": {
  "kernelspec": {
   "display_name": "satellite-object-detection",
   "language": "python",
   "name": "python3"
  },
  "language_info": {
   "codemirror_mode": {
    "name": "ipython",
    "version": 3
   },
   "file_extension": ".py",
   "mimetype": "text/x-python",
   "name": "python",
   "nbconvert_exporter": "python",
   "pygments_lexer": "ipython3",
   "version": "3.13.0"
  }
 },
 "nbformat": 4,
 "nbformat_minor": 5
}
